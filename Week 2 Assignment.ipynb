{
 "cells": [
  {
   "cell_type": "markdown",
   "id": "ff664de7-9fc4-4acc-975b-f9461692d1bb",
   "metadata": {},
   "source": [
    "Q1.How do you comment code in Python? What are the different types of comments?"
   ]
  },
  {
   "cell_type": "markdown",
   "id": "fa6e461f-d49e-4a8f-bfa4-8bcaa963fbbd",
   "metadata": {},
   "source": [
    "Ans: Comments in Python are the lines in the code that are ignored by the interpreter during the execution of the program. \n",
    "\n",
    "Eg:\n",
    "# sample comment\n",
    "name = \"learningpython\"\n",
    "print(name)\n",
    "\n",
    "There are three types of comments in Python:\n",
    "\n",
    "1.Single line Comments\n",
    "2.Multiline Comments\n",
    "3.Docstring Comments\n",
    "\n",
    "\n",
    "Single-Line Comments in Python\n",
    "Python single-line comment starts with the hashtag symbol (#) with no white spaces and lasts till the end of the line. If the comment exceeds one line then put a hashtag on the next line and continue the comment. Python’s single-line comments are proved useful for supplying short explanations for variables, function declarations, and expressions. See the following code snippet demonstrating single line comment:\n",
    "\n",
    "Example: \n",
    "# Print “learning programming!” to console\n",
    "print(\"learning programming\")\n",
    "\n",
    "Multi-Line Comments in Python\n",
    "Python does not provide the option for multiline comments. However, there are different ways through which we can write multiline comments.\n",
    "\n",
    "Multiline comments using multiple hashtags (#)\n",
    "\n",
    "We can multiple hashtags (#) to write multiline comments in Python. Each and every line will be considered as a single-line comment.\n",
    "\n",
    "\n",
    "# Python program to demonstrate\n",
    "# multiline comments\n",
    "print(\"Multiline comments\")\n",
    "\n",
    "String Literals In Python\n",
    "Python ignores the string literals that are not assigned to a variable so we can use these string literals as a comment. \n",
    "\n",
    "\n",
    "Single-line comments using string literals\n",
    "\n",
    "On executing the above code we can see that there will not be any output so we use the strings with triple quotes(“””) as multiline comments.\n",
    "\n",
    "\n",
    "\n",
    "\"\"\" Python program to demonstrate\n",
    " multiline comments\"\"\"\n",
    "print(\"Multiline comments\")\n",
    "\n",
    "Docstring in Python\n",
    "Python docstring is the string literals with triple quotes that are appeared right after the function. It is used to associate documentation that has been written with Python modules, functions, classes, and methods. It is added right below the functions, modules, or classes to describe what they do. In Python, the docstring is then made available via the __doc__ attribute.\n",
    "\n",
    "Example:\n",
    "\n",
    "\n",
    "def multiply(a, b):\n",
    "    \"\"\"Multiplies the value of a and b\"\"\"\n",
    "    return a*b\n",
    "\n"
   ]
  },
  {
   "cell_type": "markdown",
   "id": "501b1497-56a2-4f65-ad78-b57387621801",
   "metadata": {},
   "source": [
    "Q2. What are variables in Python? How do you declare and assign values to variables?"
   ]
  },
  {
   "cell_type": "markdown",
   "id": "8f1f4412-1480-4b58-91a8-34dc3f1a13d1",
   "metadata": {},
   "source": [
    "Ans: A variable is a string of characters and numbers associated with a piece of information. The assignment operator, denoted by the “=” symbol, is the operator that is used to assign values to variables in Python. The line x=2 takes the known value, 2, and assigns that value to the variable with name “x”. After executing this line, this number will be stored into this variable. Until the value is changed or the variable deleted, the character x behaves like the value 2."
   ]
  },
  {
   "cell_type": "markdown",
   "id": "2881c837-1787-4306-9e6f-4f7bc6509afc",
   "metadata": {},
   "source": [
    "Q3. How do you convert one data type to another in Python?\n"
   ]
  },
  {
   "cell_type": "markdown",
   "id": "1bb404f0-d705-49e7-8b46-aede55cf29d6",
   "metadata": {},
   "source": [
    "Ans:"
   ]
  },
  {
   "cell_type": "code",
   "execution_count": 30,
   "id": "8dd101b2-69e4-4ea6-8ad0-543f7f03e974",
   "metadata": {},
   "outputs": [
    {
     "data": {
      "text/plain": [
       "7"
      ]
     },
     "execution_count": 30,
     "metadata": {},
     "output_type": "execute_result"
    }
   ],
   "source": [
    "int(7.65)\n"
   ]
  },
  {
   "cell_type": "markdown",
   "id": "18164adb-90ee-46cc-959d-49a7f73215d3",
   "metadata": {},
   "source": [
    "Q4. How do you write and execute a Python script from the command line?"
   ]
  },
  {
   "cell_type": "markdown",
   "id": "97160461-0ebf-4a41-80ce-870c530165ff",
   "metadata": {},
   "source": [
    "Ans:\n",
    "You need to open a command line and type the word python followed by the path to your script file like this: python first_script.py Hello World! Then you hit the ENTER button from the keyboard, and that's it.\n",
    "Execute Python Script:ENTER button from the keyboard\n",
    "ENTER+Shift"
   ]
  },
  {
   "cell_type": "markdown",
   "id": "e19240d5-d119-4112-950b-ca0c046f34b6",
   "metadata": {},
   "source": [
    "5. Given a list my_list = [1, 2, 3, 4, 5], write the code to slice the list and obtain the sub-list [2, 3]."
   ]
  },
  {
   "cell_type": "code",
   "execution_count": null,
   "id": "6d4c18c1-a6bb-429a-82b3-727a9cc147c7",
   "metadata": {},
   "outputs": [],
   "source": [
    "Ans:"
   ]
  },
  {
   "cell_type": "code",
   "execution_count": 3,
   "id": "b4fde5a5-afb3-4545-b3c2-beadaf14f62b",
   "metadata": {},
   "outputs": [
    {
     "data": {
      "text/plain": [
       "[2, 3]"
      ]
     },
     "execution_count": 3,
     "metadata": {},
     "output_type": "execute_result"
    }
   ],
   "source": [
    "my_list=[1, 2, 3, 4, 5]\n",
    "my_list[1:3]"
   ]
  },
  {
   "cell_type": "markdown",
   "id": "b9a3a867-d20a-4f6f-ab35-f9d5f2d30c05",
   "metadata": {},
   "source": [
    "Q6. What is a complex number in mathematics, and how is it represented in Python?"
   ]
  },
  {
   "cell_type": "markdown",
   "id": "15bd6d34-1f02-4739-b138-39eed3683c3a",
   "metadata": {},
   "source": [
    "Ans:a=8+2j\n",
    "Complex numbers are created from two real numbers. You can create it directly or you can use the complex function. It is written in the form of (x + yj) where x and y are real numbers and j is an imaginary number which is the square root of -1."
   ]
  },
  {
   "cell_type": "markdown",
   "id": "ad6900e9-0fac-43d2-9e96-9655aa83fddc",
   "metadata": {},
   "source": [
    "Q7. What is the correct way to declare a variable named age and assign the value 25 to it?"
   ]
  },
  {
   "cell_type": "markdown",
   "id": "0435a18c-9ee0-4293-91f5-39c14664118f",
   "metadata": {},
   "source": [
    "Ans:"
   ]
  },
  {
   "cell_type": "code",
   "execution_count": 24,
   "id": "b11553d2-e2e3-4e4c-a6f5-178b4b984f3e",
   "metadata": {},
   "outputs": [],
   "source": [
    "Age= int(25)"
   ]
  },
  {
   "cell_type": "markdown",
   "id": "f0ae275c-3e75-4a6b-9804-31f9b55249a5",
   "metadata": {},
   "source": [
    "Q8. Declare a variable named price and assign the value 9.99 to it. What data type does this variable\n",
    "belong to?"
   ]
  },
  {
   "cell_type": "markdown",
   "id": "bc557259-f13e-4244-ae93-aacc94bfc9a7",
   "metadata": {},
   "source": [
    "Ans: price variable has float data type. "
   ]
  },
  {
   "cell_type": "code",
   "execution_count": 8,
   "id": "1e4e8909-5771-4ec5-bb01-eec510a9208b",
   "metadata": {},
   "outputs": [
    {
     "data": {
      "text/plain": [
       "float"
      ]
     },
     "execution_count": 8,
     "metadata": {},
     "output_type": "execute_result"
    }
   ],
   "source": [
    "price=9.99\n",
    "type(price)"
   ]
  },
  {
   "cell_type": "markdown",
   "id": "fc4526cd-b369-47ba-aa54-e4637c096f36",
   "metadata": {},
   "source": [
    "Q9. Create a variable named name and assign your full name to it as a string. How would you print the\n",
    "value of this variable?"
   ]
  },
  {
   "cell_type": "markdown",
   "id": "dcad3fb3-4cc4-4179-b12a-37f17dfd3b70",
   "metadata": {},
   "source": [
    "Ans:"
   ]
  },
  {
   "cell_type": "code",
   "execution_count": 31,
   "id": "02b4d3c5-63a0-4c8b-a15b-03f1ff2a671d",
   "metadata": {},
   "outputs": [
    {
     "name": "stdout",
     "output_type": "stream",
     "text": [
      "Sneha Murthy\n"
     ]
    }
   ],
   "source": [
    "name='Sneha Murthy'\n",
    "print(name)\n",
    "# name =\"Sneha Murthy\"\n",
    "# print(name)"
   ]
  },
  {
   "cell_type": "markdown",
   "id": "b6422f45-aafc-4538-9516-9f76ccb83c57",
   "metadata": {},
   "source": [
    "Q10. Given the string \"Hello, World!\", extract the substring \"World\"."
   ]
  },
  {
   "cell_type": "markdown",
   "id": "35ddc8f2-2299-496a-9aac-a445a5e54910",
   "metadata": {},
   "source": [
    "Ans:"
   ]
  },
  {
   "cell_type": "code",
   "execution_count": 25,
   "id": "31c3e7b7-a9f2-47c6-8594-341569f83715",
   "metadata": {},
   "outputs": [
    {
     "data": {
      "text/plain": [
       "'World'"
      ]
     },
     "execution_count": 25,
     "metadata": {},
     "output_type": "execute_result"
    }
   ],
   "source": [
    "s1=\"Hello, World\"\n",
    "s1[7::]"
   ]
  },
  {
   "cell_type": "code",
   "execution_count": 26,
   "id": "a4df8499-84cc-457e-abd4-013ff492ebc8",
   "metadata": {},
   "outputs": [
    {
     "data": {
      "text/plain": [
       "'World'"
      ]
     },
     "execution_count": 26,
     "metadata": {},
     "output_type": "execute_result"
    }
   ],
   "source": [
    "s1=\"Hello, World\"\n",
    "s1[7:12]"
   ]
  },
  {
   "cell_type": "code",
   "execution_count": 27,
   "id": "a60f1d0f-3f4b-44a5-9f86-dfa75bbf2d82",
   "metadata": {},
   "outputs": [
    {
     "data": {
      "text/plain": [
       "'World'"
      ]
     },
     "execution_count": 27,
     "metadata": {},
     "output_type": "execute_result"
    }
   ],
   "source": [
    "s1=\"Hello, World\"\n",
    "s1[7:12:1]"
   ]
  },
  {
   "cell_type": "markdown",
   "id": "353e23d9-00f4-4b9d-99c2-b35bda8d6e64",
   "metadata": {},
   "source": [
    "Q11. Create a variable named \"is_student\" and assign it a boolean value indicating whether you are\n",
    "currently a student or not."
   ]
  },
  {
   "cell_type": "markdown",
   "id": "553d8309-0206-4fab-833d-653faa9b167a",
   "metadata": {},
   "source": [
    "Ans:"
   ]
  },
  {
   "cell_type": "code",
   "execution_count": 22,
   "id": "db791169-7d3f-49bd-b09b-30c75a2eaab5",
   "metadata": {},
   "outputs": [
    {
     "name": "stdout",
     "output_type": "stream",
     "text": [
      "True\n"
     ]
    }
   ],
   "source": [
    "is_student=True\n",
    "print(is_student)"
   ]
  }
 ],
 "metadata": {
  "kernelspec": {
   "display_name": "Python 3 (ipykernel)",
   "language": "python",
   "name": "python3"
  },
  "language_info": {
   "codemirror_mode": {
    "name": "ipython",
    "version": 3
   },
   "file_extension": ".py",
   "mimetype": "text/x-python",
   "name": "python",
   "nbconvert_exporter": "python",
   "pygments_lexer": "ipython3",
   "version": "3.10.8"
  }
 },
 "nbformat": 4,
 "nbformat_minor": 5
}
