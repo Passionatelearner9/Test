{
 "cells": [
  {
   "cell_type": "markdown",
   "id": "05d2e536-d0da-42cb-bffe-7418bb711a99",
   "metadata": {},
   "source": [
    "Q1. Create one variable containing following type of data:\n",
    "(i) string\n",
    "(ii) list\n",
    "(iii) float\n",
    "(iv) tuple"
   ]
  },
  {
   "cell_type": "markdown",
   "id": "952b8afd-6090-4374-a45a-94a04495c69d",
   "metadata": {},
   "source": [
    "Ans:"
   ]
  },
  {
   "cell_type": "code",
   "execution_count": 1,
   "id": "180a3777-4378-4e23-a41f-75aec0737e77",
   "metadata": {},
   "outputs": [],
   "source": [
    "a=(\"rash\",[1,2,3,4], 45.61,(1,5,\"book\", 24.64))"
   ]
  },
  {
   "cell_type": "code",
   "execution_count": 3,
   "id": "31bbec93-f9cd-4eca-b035-bd7efcad79dd",
   "metadata": {},
   "outputs": [
    {
     "data": {
      "text/plain": [
       "str"
      ]
     },
     "execution_count": 3,
     "metadata": {},
     "output_type": "execute_result"
    }
   ],
   "source": [
    "type(\"rash\")"
   ]
  },
  {
   "cell_type": "code",
   "execution_count": 4,
   "id": "16e91525-d139-427d-ac1d-2490d237ca80",
   "metadata": {},
   "outputs": [
    {
     "data": {
      "text/plain": [
       "list"
      ]
     },
     "execution_count": 4,
     "metadata": {},
     "output_type": "execute_result"
    }
   ],
   "source": [
    "type([1,2,3,4])"
   ]
  },
  {
   "cell_type": "code",
   "execution_count": 5,
   "id": "2ba78638-4c20-4a26-89b6-9fcd3707481a",
   "metadata": {},
   "outputs": [
    {
     "data": {
      "text/plain": [
       "float"
      ]
     },
     "execution_count": 5,
     "metadata": {},
     "output_type": "execute_result"
    }
   ],
   "source": [
    "type(45.61)"
   ]
  },
  {
   "cell_type": "code",
   "execution_count": 6,
   "id": "c67cca69-e2ae-45c6-856b-095d417a1681",
   "metadata": {},
   "outputs": [
    {
     "data": {
      "text/plain": [
       "tuple"
      ]
     },
     "execution_count": 6,
     "metadata": {},
     "output_type": "execute_result"
    }
   ],
   "source": [
    "type((1,5,\"book\", 24.64))"
   ]
  },
  {
   "cell_type": "markdown",
   "id": "35d9ccc6-9c41-4a68-aa09-d11a205d3426",
   "metadata": {},
   "source": [
    "Q2. Given are some following variables containing data:\n",
    "(i) var1 = ‘ ‘\n",
    "(ii) var2 = ‘[ DS , ML , Python]’\n",
    "(iii) var3 = [ ‘DS’ , ’ML’ , ‘Python’ ]\n",
    "(iv) var4 = 1."
   ]
  },
  {
   "cell_type": "markdown",
   "id": "1a8521ba-b5c1-4f34-aedc-338729db0deb",
   "metadata": {},
   "source": [
    "Ans"
   ]
  },
  {
   "cell_type": "code",
   "execution_count": 7,
   "id": "2d9868ec-9677-4a53-baa1-39136c411d1e",
   "metadata": {},
   "outputs": [],
   "source": [
    "var1='Book'"
   ]
  },
  {
   "cell_type": "code",
   "execution_count": 8,
   "id": "eb19304f-fd92-4a2e-aa5b-11d8aaa5e080",
   "metadata": {},
   "outputs": [
    {
     "data": {
      "text/plain": [
       "str"
      ]
     },
     "execution_count": 8,
     "metadata": {},
     "output_type": "execute_result"
    }
   ],
   "source": [
    "type(var1)"
   ]
  },
  {
   "cell_type": "code",
   "execution_count": 11,
   "id": "1ccb60aa-25f4-4766-a088-a0d37288afa9",
   "metadata": {},
   "outputs": [],
   "source": [
    "var2 = '[ DS , ML , Python]'"
   ]
  },
  {
   "cell_type": "code",
   "execution_count": 12,
   "id": "91f81f5c-c2e9-4600-8bed-215a460abaf6",
   "metadata": {},
   "outputs": [
    {
     "data": {
      "text/plain": [
       "str"
      ]
     },
     "execution_count": 12,
     "metadata": {},
     "output_type": "execute_result"
    }
   ],
   "source": [
    "type(var2)"
   ]
  },
  {
   "cell_type": "code",
   "execution_count": 15,
   "id": "6bb470c4-0284-46fb-9443-1ec207e5bb47",
   "metadata": {},
   "outputs": [],
   "source": [
    "var3=[ 'DS' , 'ML' , 'Python' ]"
   ]
  },
  {
   "cell_type": "code",
   "execution_count": 16,
   "id": "5f62eaaf-8e70-435f-a2dd-b7554eab4787",
   "metadata": {},
   "outputs": [
    {
     "data": {
      "text/plain": [
       "list"
      ]
     },
     "execution_count": 16,
     "metadata": {},
     "output_type": "execute_result"
    }
   ],
   "source": [
    "type(var3)"
   ]
  },
  {
   "cell_type": "code",
   "execution_count": 17,
   "id": "d3281ac3-9050-4a35-86d1-586566e309d5",
   "metadata": {},
   "outputs": [],
   "source": [
    "var4=1."
   ]
  },
  {
   "cell_type": "code",
   "execution_count": 18,
   "id": "c7ed70f6-59cc-4e15-9274-39cf3d1ecc03",
   "metadata": {},
   "outputs": [
    {
     "data": {
      "text/plain": [
       "float"
      ]
     },
     "execution_count": 18,
     "metadata": {},
     "output_type": "execute_result"
    }
   ],
   "source": [
    "type(var4)"
   ]
  },
  {
   "cell_type": "markdown",
   "id": "606d3569-09f0-4b70-af59-4d606ec882e1",
   "metadata": {},
   "source": [
    "Q3. Explain the use of the following operators using an example:\n",
    "(i) /\n",
    "(ii) %\n",
    "(iii) //\n",
    "(iv) **"
   ]
  },
  {
   "cell_type": "markdown",
   "id": "ba955cba-b785-43be-93e0-3687f3414217",
   "metadata": {},
   "source": [
    "Ans"
   ]
  },
  {
   "cell_type": "code",
   "execution_count": 19,
   "id": "dc04537d-3433-4c76-a0b7-93067966fd62",
   "metadata": {},
   "outputs": [
    {
     "name": "stdout",
     "output_type": "stream",
     "text": [
      "Division; 4.0\n"
     ]
    }
   ],
   "source": [
    "a=8\n",
    "b=2\n",
    "#division\n",
    "print('Division;',a/b)"
   ]
  },
  {
   "cell_type": "code",
   "execution_count": 20,
   "id": "f53c024a-afca-4fa5-bd5e-61a49206399b",
   "metadata": {},
   "outputs": [
    {
     "name": "stdout",
     "output_type": "stream",
     "text": [
      "Modulo; 0\n"
     ]
    }
   ],
   "source": [
    "a=8\n",
    "b=2\n",
    "#Modulo\n",
    "print('Modulo;',a%b)"
   ]
  },
  {
   "cell_type": "code",
   "execution_count": 21,
   "id": "8dddc429-428b-4472-9b2b-b7cd1da53b69",
   "metadata": {},
   "outputs": [
    {
     "name": "stdout",
     "output_type": "stream",
     "text": [
      "Floor Division; 4\n"
     ]
    }
   ],
   "source": [
    "a=8\n",
    "b=2\n",
    "#floor division\n",
    "print('Floor Division;',a//b)"
   ]
  },
  {
   "cell_type": "code",
   "execution_count": 22,
   "id": "d954aaf7-8680-4a0f-a002-4182126c59a9",
   "metadata": {},
   "outputs": [
    {
     "name": "stdout",
     "output_type": "stream",
     "text": [
      "Power; 64\n"
     ]
    }
   ],
   "source": [
    "a=8\n",
    "b=2\n",
    "#a to the power b\n",
    "print('Power;',a**b)"
   ]
  },
  {
   "cell_type": "markdown",
   "id": "0b9ca05e-b15f-470f-afd5-f58d1093a989",
   "metadata": {},
   "source": [
    "Q4. Create a list of length 10 of your choice containing multiple types of data. Using for loop print the\n",
    "element and its data type."
   ]
  },
  {
   "cell_type": "code",
   "execution_count": 23,
   "id": "d306bc1d-96ee-4698-89cb-b4bd1cee64c3",
   "metadata": {},
   "outputs": [
    {
     "name": "stdout",
     "output_type": "stream",
     "text": [
      "1\n",
      "<class 'int'>\n",
      "2\n",
      "<class 'int'>\n",
      "3\n",
      "<class 'int'>\n",
      "home\n",
      "<class 'str'>\n",
      "56.91\n",
      "<class 'float'>\n",
      "6\n",
      "<class 'int'>\n",
      "9\n",
      "<class 'int'>\n",
      "time\n",
      "<class 'str'>\n",
      "62.24\n",
      "<class 'float'>\n",
      "10\n",
      "<class 'int'>\n"
     ]
    }
   ],
   "source": [
    "l=[1,2,3,\"home\",56.91,6,9,\"time\",62.24,10]\n",
    "\n",
    "for i in l:\n",
    "    print(i)\n",
    "    print(type(i))"
   ]
  },
  {
   "cell_type": "markdown",
   "id": "d4be5585-a552-4336-9555-aa022e015944",
   "metadata": {},
   "source": [
    "Q6. Create a list containing 25 int type data. Using for loop and if-else condition print if the element is\n",
    "divisible by 3 or not."
   ]
  },
  {
   "cell_type": "code",
   "execution_count": 26,
   "id": "5853842a-df98-4bab-8e33-3a1692250632",
   "metadata": {},
   "outputs": [
    {
     "name": "stdout",
     "output_type": "stream",
     "text": [
      "1 is not divisible by 3.\n",
      "2 is not divisible by 3.\n",
      "3 is divisible by 3.\n",
      "4 is not divisible by 3.\n",
      "5 is not divisible by 3.\n",
      "6 is divisible by 3.\n",
      "7 is not divisible by 3.\n",
      "8 is not divisible by 3.\n",
      "9 is divisible by 3.\n",
      "10 is not divisible by 3.\n",
      "11 is not divisible by 3.\n",
      "12 is divisible by 3.\n",
      "13 is not divisible by 3.\n",
      "14 is not divisible by 3.\n",
      "15 is divisible by 3.\n",
      "16 is not divisible by 3.\n",
      "17 is not divisible by 3.\n",
      "18 is divisible by 3.\n",
      "19 is not divisible by 3.\n",
      "20 is not divisible by 3.\n",
      "21 is divisible by 3.\n",
      "22 is not divisible by 3.\n",
      "23 is not divisible by 3.\n",
      "24 is divisible by 3.\n",
      "25 is not divisible by 3.\n"
     ]
    }
   ],
   "source": [
    "data_list=[]\n",
    "for i in range (1,26):\n",
    "    data_list.append(i)\n",
    "for num in data_list:\n",
    "    if num%3==0:\n",
    "        print(f'{num} is divisible by 3.')\n",
    "    else:\n",
    "         print(f'{num} is not divisible by 3.')"
   ]
  },
  {
   "cell_type": "markdown",
   "id": "ffa44e13-b509-490b-b102-ef50a9590983",
   "metadata": {},
   "source": [
    "Q7. What do you understand about mutable and immutable data types? Give examples for both showing\n",
    "this property."
   ]
  },
  {
   "cell_type": "markdown",
   "id": "f1ec7f14-c13e-4290-9616-1ccf3bc2a74e",
   "metadata": {},
   "source": [
    "Ans:Immutable datatypes\n",
    "Immutable datatypes are objects that cannot be modified or altered after they have been created (for example, by adding new elements, removing elements, or replacing elements). Python's immutable data types are:\n",
    "\n",
    "Int\n",
    "\n",
    "Float\n",
    "\n",
    "Tuple\n",
    "\n",
    "Complex\n",
    "\n",
    "String\n",
    "\n",
    "Stringfrozen set [note: immutable version of the set]\n",
    "\n",
    "Bytes\n",
    "\n",
    "Mutable Data Types\n",
    "\n",
    "In mutable data types, we can modify the already existing values of the data types (such as lists, dictionaries, etc.). Or, we may add new values or remove the existing values from our data types. Basically, we may perform any operation with our data without having to create a new copy of our data type. Hence, the value assigned to any variable can be changed."
   ]
  },
  {
   "cell_type": "code",
   "execution_count": 27,
   "id": "6e9e5045-0d1b-43a6-91c3-8644cb3b2d80",
   "metadata": {},
   "outputs": [
    {
     "ename": "TypeError",
     "evalue": "'tuple' object does not support item assignment",
     "output_type": "error",
     "traceback": [
      "\u001b[0;31m---------------------------------------------------------------------------\u001b[0m",
      "\u001b[0;31mTypeError\u001b[0m                                 Traceback (most recent call last)",
      "Cell \u001b[0;32mIn[27], line 5\u001b[0m\n\u001b[1;32m      1\u001b[0m \u001b[38;5;66;03m# Python code to test that\u001b[39;00m\n\u001b[1;32m      2\u001b[0m \u001b[38;5;66;03m# tuples are immutable\u001b[39;00m\n\u001b[1;32m      4\u001b[0m tuple1 \u001b[38;5;241m=\u001b[39m (\u001b[38;5;241m0\u001b[39m, \u001b[38;5;241m1\u001b[39m, \u001b[38;5;241m2\u001b[39m, \u001b[38;5;241m3\u001b[39m)\n\u001b[0;32m----> 5\u001b[0m \u001b[43mtuple1\u001b[49m\u001b[43m[\u001b[49m\u001b[38;5;241;43m0\u001b[39;49m\u001b[43m]\u001b[49m \u001b[38;5;241m=\u001b[39m \u001b[38;5;241m4\u001b[39m\n\u001b[1;32m      6\u001b[0m \u001b[38;5;28mprint\u001b[39m(tuple1)\n",
      "\u001b[0;31mTypeError\u001b[0m: 'tuple' object does not support item assignment"
     ]
    }
   ],
   "source": [
    "# Python code to test that\n",
    "# tuples are immutable\n",
    "   \n",
    "tuple1 = (0, 1, 2, 3)\n",
    "tuple1[0] = 4\n",
    "print(tuple1)"
   ]
  },
  {
   "cell_type": "code",
   "execution_count": 28,
   "id": "05075cf1-65f3-4420-b0b0-1ef78be633ae",
   "metadata": {},
   "outputs": [
    {
     "name": "stdout",
     "output_type": "stream",
     "text": [
      "['White', 'Grey', 'Green']\n",
      "['Yellow', 'Grey', 'Purple']\n"
     ]
    }
   ],
   "source": [
    "# Python code to test that\n",
    "# lists are mutable\n",
    "color = [\"White\", \"Grey\", \"Green\"]\n",
    "print(color)\n",
    " \n",
    "color[0] = \"Yellow\"\n",
    "color[-1] = \"Purple\"\n",
    "print(color)"
   ]
  },
  {
   "cell_type": "code",
   "execution_count": null,
   "id": "89f09914-1b41-4117-adee-543c88f3eaf1",
   "metadata": {},
   "outputs": [],
   "source": []
  }
 ],
 "metadata": {
  "kernelspec": {
   "display_name": "Python 3 (ipykernel)",
   "language": "python",
   "name": "python3"
  },
  "language_info": {
   "codemirror_mode": {
    "name": "ipython",
    "version": 3
   },
   "file_extension": ".py",
   "mimetype": "text/x-python",
   "name": "python",
   "nbconvert_exporter": "python",
   "pygments_lexer": "ipython3",
   "version": "3.10.8"
  }
 },
 "nbformat": 4,
 "nbformat_minor": 5
}
